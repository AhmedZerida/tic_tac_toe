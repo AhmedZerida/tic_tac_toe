{
 "cells": [
  {
   "cell_type": "code",
   "execution_count": 9,
   "id": "5ef55996",
   "metadata": {},
   "outputs": [],
   "source": [
    "from time import sleep\n"
   ]
  },
  {
   "cell_type": "code",
   "execution_count": 10,
   "id": "dce1f65d",
   "metadata": {},
   "outputs": [],
   "source": [
    "def printBoard(board):\n",
    "    print(board[7] + '|' + board[8] + '|' + board[9])\n",
    "    print('-+-+-')\n",
    "    print(board[4] + '|' + board[5] + '|' + board[6])\n",
    "    print('-+-+-')\n",
    "    print(board[1] + '|' + board[2] + '|' + board[3])\n",
    "    print(\"\\n\")\n"
   ]
  },
  {
   "cell_type": "code",
   "execution_count": 11,
   "id": "d44c6903",
   "metadata": {},
   "outputs": [],
   "source": [
    "def spaceIsFree(position):\n",
    "    if board[position] == ' ':\n",
    "        return True\n",
    "    else:\n",
    "        return False"
   ]
  },
  {
   "cell_type": "code",
   "execution_count": 12,
   "id": "42b8bfb3",
   "metadata": {},
   "outputs": [],
   "source": [
    "def checkForWin():\n",
    "    if (board[1] == board[2] and board[1] == board[3] and board[1] != ' '):\n",
    "        return True\n",
    "    elif (board[4] == board[5] and board[4] == board[6] and board[4] != ' '):\n",
    "        return True\n",
    "    elif (board[7] == board[8] and board[7] == board[9] and board[7] != ' '):\n",
    "        return True\n",
    "    elif (board[1] == board[4] and board[1] == board[7] and board[1] != ' '):\n",
    "        return True\n",
    "    elif (board[2] == board[5] and board[2] == board[8] and board[2] != ' '):\n",
    "        return True\n",
    "    elif (board[3] == board[6] and board[3] == board[9] and board[3] != ' '):\n",
    "        return True\n",
    "    elif (board[1] == board[5] and board[1] == board[9] and board[1] != ' '):\n",
    "        return True\n",
    "    elif (board[7] == board[5] and board[7] == board[3] and board[7] != ' '):\n",
    "        return True\n",
    "    else:\n",
    "        return False"
   ]
  },
  {
   "cell_type": "code",
   "execution_count": 13,
   "id": "52a43070",
   "metadata": {},
   "outputs": [],
   "source": [
    "def checkWhichMarkWon(mark):\n",
    "    if board[1] == board[2] and board[1] == board[3] and board[1] == mark:\n",
    "        return True\n",
    "    elif (board[4] == board[5] and board[4] == board[6] and board[4] == mark):\n",
    "        return True\n",
    "    elif (board[7] == board[8] and board[7] == board[9] and board[7] == mark):\n",
    "        return True\n",
    "    elif (board[1] == board[4] and board[1] == board[7] and board[1] == mark):\n",
    "        return True\n",
    "    elif (board[2] == board[5] and board[2] == board[8] and board[2] == mark):\n",
    "        return True\n",
    "    elif (board[3] == board[6] and board[3] == board[9] and board[3] == mark):\n",
    "        return True\n",
    "    elif (board[1] == board[5] and board[1] == board[9] and board[1] == mark):\n",
    "        return True\n",
    "    elif (board[7] == board[5] and board[7] == board[3] and board[7] == mark):\n",
    "        return True\n",
    "    else:\n",
    "        return False\n"
   ]
  },
  {
   "cell_type": "code",
   "execution_count": 14,
   "id": "99adf863",
   "metadata": {},
   "outputs": [],
   "source": [
    "def checkDraw():\n",
    "    for key in board.keys():\n",
    "        if (board[key] == ' '):\n",
    "            return False\n",
    "    return True\n"
   ]
  },
  {
   "cell_type": "code",
   "execution_count": 15,
   "id": "6934d39a",
   "metadata": {},
   "outputs": [],
   "source": [
    "def insertLetter(letter, position):\n",
    "    if spaceIsFree(position):\n",
    "        board[position] = letter\n",
    "        printBoard(board)\n",
    "        if (checkDraw()):\n",
    "            print(\"Draw!\")\n",
    "            sleep(10000)\n",
    "            exit()\n",
    "        if checkForWin():\n",
    "            if letter == 'X':\n",
    "                print(\"Bot wins!\")\n",
    "                sleep(10000)\n",
    "                exit()\n",
    "            else:\n",
    "                print(\"Player wins!\")\n",
    "                sleep(10000)\n",
    "                exit()\n",
    "\n",
    "        return\n",
    "\n",
    "\n",
    "    else:\n",
    "        print(\"Can't insert there!\")\n",
    "        position = int(input(\"Please enter new position:  \"))\n",
    "        insertLetter(letter, position)\n",
    "        return"
   ]
  },
  {
   "cell_type": "code",
   "execution_count": 16,
   "id": "693e5104",
   "metadata": {},
   "outputs": [],
   "source": [
    "def playerMove():\n",
    "    position = int(input(\"Enter the position for 'O':  \"))\n",
    "    insertLetter(player, position)\n",
    "    return\n"
   ]
  },
  {
   "cell_type": "code",
   "execution_count": 17,
   "id": "e8ee0fc8",
   "metadata": {},
   "outputs": [],
   "source": [
    "def compMove():\n",
    "    result = -800\n",
    "    bestMove = 0\n",
    "    for key in board.keys():\n",
    "        if (board[key] == ' '):\n",
    "            board[key] = bot\n",
    "            score = getGameResult(board,False)\n",
    "            board[key] = ' '\n",
    "            if (score > result):\n",
    "                result = score\n",
    "                bestMove = key\n",
    "\n",
    "    insertLetter(bot, bestMove)\n",
    "    return"
   ]
  },
  {
   "cell_type": "code",
   "execution_count": 18,
   "id": "a89a6080",
   "metadata": {},
   "outputs": [],
   "source": [
    "def getGameResult(board, xTurn):\n",
    "    if (checkWhichMarkWon(bot)):\n",
    "        return 1\n",
    "    elif (checkWhichMarkWon(player)):\n",
    "        return -1\n",
    "    elif (checkDraw()):\n",
    "        return 0 \n",
    "\n",
    "    for key in board.keys():\n",
    "        if (board[key] == ' '):\n",
    "            if (xTurn):\n",
    "                result = -1000\n",
    "                board[key] = bot\n",
    "                score = getGameResult(board, False)\n",
    "                board[key] = ' '\n",
    "                if score > result:\n",
    "                    result = score\n",
    "\n",
    "            elif xTurn==False:\n",
    "                result = 1000\n",
    "                board[key] = player\n",
    "                score = getGameResult(board, True)\n",
    "                board[key] = ' '\n",
    "\n",
    "                if (score < result):\n",
    "                    result = score\n",
    "    return result\n",
    "\n"
   ]
  },
  {
   "cell_type": "code",
   "execution_count": 19,
   "id": "d8e5bb9c",
   "metadata": {},
   "outputs": [],
   "source": [
    "board = {1: ' ', 2: ' ', 3: ' ',\n",
    "         4: ' ', 5: ' ', 6: ' ',\n",
    "         7: ' ', 8: ' ', 9: ' '}"
   ]
  },
  {
   "cell_type": "code",
   "execution_count": null,
   "id": "d7698b9d",
   "metadata": {},
   "outputs": [
    {
     "name": "stdout",
     "output_type": "stream",
     "text": [
      " | | \n",
      "-+-+-\n",
      " | | \n",
      "-+-+-\n",
      " | | \n",
      "\n",
      "\n",
      "Computer goes first! Good luck.\n",
      "Positions are as follow:\n",
      "7, 8, 9 \n",
      "4, 5, 6 \n",
      "1, 2, 3 \n",
      "\n",
      "\n",
      "X| | \n",
      "-+-+-\n",
      " | | \n",
      "-+-+-\n",
      " | | \n",
      "\n",
      "\n",
      "Enter the position for 'O':  5\n",
      "X| | \n",
      "-+-+-\n",
      " |O| \n",
      "-+-+-\n",
      " | | \n",
      "\n",
      "\n",
      "X| | \n",
      "-+-+-\n",
      " |O| \n",
      "-+-+-\n",
      "X| | \n",
      "\n",
      "\n",
      "Enter the position for 'O':  6\n",
      "X| | \n",
      "-+-+-\n",
      " |O|O\n",
      "-+-+-\n",
      "X| | \n",
      "\n",
      "\n",
      "X| | \n",
      "-+-+-\n",
      "X|O|O\n",
      "-+-+-\n",
      "X| | \n",
      "\n",
      "\n",
      "Bot wins!\n"
     ]
    }
   ],
   "source": [
    "printBoard(board)\n",
    "print(\"Computer goes first! Good luck.\")\n",
    "print(\"Positions are as follow:\")\n",
    "print(\"7, 8, 9 \")\n",
    "print(\"4, 5, 6 \")\n",
    "print(\"1, 2, 3 \")\n",
    "print(\"\\n\")\n",
    "player = 'O'\n",
    "bot = 'X'\n",
    "\n",
    "global firstComputerMove\n",
    "firstComputerMove = True\n",
    "\n",
    "while not checkForWin():\n",
    "    compMove()\n",
    "    playerMove()"
   ]
  },
  {
   "cell_type": "code",
   "execution_count": null,
   "id": "d058f886",
   "metadata": {},
   "outputs": [],
   "source": []
  }
 ],
 "metadata": {
  "kernelspec": {
   "display_name": "Python 3",
   "language": "python",
   "name": "python3"
  },
  "language_info": {
   "codemirror_mode": {
    "name": "ipython",
    "version": 3
   },
   "file_extension": ".py",
   "mimetype": "text/x-python",
   "name": "python",
   "nbconvert_exporter": "python",
   "pygments_lexer": "ipython3",
   "version": "3.8.8"
  }
 },
 "nbformat": 4,
 "nbformat_minor": 5
}
